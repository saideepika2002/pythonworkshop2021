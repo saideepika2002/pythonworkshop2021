{
 "cells": [
  {
   "cell_type": "code",
   "execution_count": 2,
   "id": "dd3e0964",
   "metadata": {},
   "outputs": [],
   "source": [
    "l=1,2,3,4,5,6,7,8,9,10\n"
   ]
  },
  {
   "cell_type": "code",
   "execution_count": null,
   "id": "4f55a818",
   "metadata": {},
   "outputs": [],
   "source": [
    "n=int(input())\n",
    "while n<=10:\n",
    "    print(n)\n",
    "    n+=1\n",
    "\n",
    "          "
   ]
  },
  {
   "cell_type": "code",
   "execution_count": 2,
   "id": "0680ce0e",
   "metadata": {},
   "outputs": [
    {
     "name": "stdout",
     "output_type": "stream",
     "text": [
      "4500\n",
      "take your money\n",
      "500  balance is your balance amount\n"
     ]
    }
   ],
   "source": [
    "n=5000\n",
    "n1=int(input())\n",
    "withdraw =n1\n",
    "balance= n-n1\n",
    "if n1>n:\n",
    "    print(\"inbalance\")\n",
    "    print(n, \"is total balance\")\n",
    "else:\n",
    "        print(\"take your money\")\n",
    "if balance>0:\n",
    "    print(balance,\" balance is your balance amount\")\n",
    "if balance<=0:\n",
    "    print(\" zero balance\")\n",
    "    \n",
    "        \n",
    "\n"
   ]
  },
  {
   "cell_type": "code",
   "execution_count": 5,
   "id": "369645e0",
   "metadata": {},
   "outputs": [
    {
     "data": {
      "text/plain": [
       "str"
      ]
     },
     "execution_count": 5,
     "metadata": {},
     "output_type": "execute_result"
    }
   ],
   "source": [
    "s=\" \"\n",
    "type(s)"
   ]
  },
  {
   "cell_type": "code",
   "execution_count": 7,
   "id": "8a1b9871",
   "metadata": {},
   "outputs": [],
   "source": [
    "s=\"python programing\""
   ]
  },
  {
   "cell_type": "code",
   "execution_count": 11,
   "id": "da4993f8",
   "metadata": {},
   "outputs": [
    {
     "data": {
      "text/plain": [
       "'n'"
      ]
     },
     "execution_count": 11,
     "metadata": {},
     "output_type": "execute_result"
    }
   ],
   "source": [
    "s[-4]\n",
    "s[5]"
   ]
  },
  {
   "cell_type": "code",
   "execution_count": 27,
   "id": "704a9c79",
   "metadata": {},
   "outputs": [
    {
     "name": "stdout",
     "output_type": "stream",
     "text": [
      "pto rgaig\n",
      "ph oan\n",
      "yo\n",
      "python programing\n"
     ]
    }
   ],
   "source": [
    "print(s[0:19:2])\n",
    "print(s[0::3])\n",
    "print(s[1::8])\n",
    "print(s[::])"
   ]
  },
  {
   "cell_type": "code",
   "execution_count": 34,
   "id": "f944d8d8",
   "metadata": {},
   "outputs": [
    {
     "data": {
      "text/plain": [
       "'p nohty'"
      ]
     },
     "execution_count": 34,
     "metadata": {},
     "output_type": "execute_result"
    }
   ],
   "source": [
    "s[-10:-17:-1]"
   ]
  },
  {
   "cell_type": "code",
   "execution_count": 35,
   "id": "cc4d8e48",
   "metadata": {},
   "outputs": [
    {
     "data": {
      "text/plain": [
       "17"
      ]
     },
     "execution_count": 35,
     "metadata": {},
     "output_type": "execute_result"
    }
   ],
   "source": [
    "len(s)"
   ]
  },
  {
   "cell_type": "code",
   "execution_count": 9,
   "id": "d39b4d75",
   "metadata": {},
   "outputs": [
    {
     "name": "stdout",
     "output_type": "stream",
     "text": [
      "enter the number8\n",
      "4\n"
     ]
    }
   ],
   "source": [
    "n=int(input(\"enter the number\"))\n",
    "c=0\n",
    "for i in range(1,n+1):\n",
    "    if n%i==0:\n",
    "    \n",
    "        c=c+1\n",
    "print(c)"
   ]
  },
  {
   "cell_type": "code",
   "execution_count": null,
   "id": "084b3129",
   "metadata": {},
   "outputs": [],
   "source": [
    "n=int(input(\"enter the number\"))\n",
    "c=0\n",
    "for i in range(1,n+1):\n",
    "    if n%i==0:\n",
    "        c+=1\n",
    "if c==2:\n",
    "    print(n,\"is prime\")\n",
    "else:\n",
    "    print(n,\"is not\")\n",
    "        "
   ]
  },
  {
   "cell_type": "code",
   "execution_count": 3,
   "id": "d18fbf7b",
   "metadata": {},
   "outputs": [
    {
     "name": "stdout",
     "output_type": "stream",
     "text": [
      "['__add__', '__class__', '__contains__', '__delattr__', '__dir__', '__doc__', '__eq__', '__format__', '__ge__', '__getattribute__', '__getitem__', '__getnewargs__', '__gt__', '__hash__', '__init__', '__init_subclass__', '__iter__', '__le__', '__len__', '__lt__', '__mod__', '__mul__', '__ne__', '__new__', '__reduce__', '__reduce_ex__', '__repr__', '__rmod__', '__rmul__', '__setattr__', '__sizeof__', '__str__', '__subclasshook__', 'capitalize', 'casefold', 'center', 'count', 'encode', 'endswith', 'expandtabs', 'find', 'format', 'format_map', 'index', 'isalnum', 'isalpha', 'isascii', 'isdecimal', 'isdigit', 'isidentifier', 'islower', 'isnumeric', 'isprintable', 'isspace', 'istitle', 'isupper', 'join', 'ljust', 'lower', 'lstrip', 'maketrans', 'partition', 'replace', 'rfind', 'rindex', 'rjust', 'rpartition', 'rsplit', 'rstrip', 'split', 'splitlines', 'startswith', 'strip', 'swapcase', 'title', 'translate', 'upper', 'zfill']\n"
     ]
    }
   ],
   "source": [
    "print(dir(str))\n"
   ]
  },
  {
   "cell_type": "code",
   "execution_count": 6,
   "id": "3ee3bc2b",
   "metadata": {},
   "outputs": [
    {
     "data": {
      "text/plain": [
       "'dfgfhkjhg'"
      ]
     },
     "execution_count": 6,
     "metadata": {},
     "output_type": "execute_result"
    }
   ],
   "source": [
    "s=\"DFGFHkjhg\"\n",
    "s.casefold()"
   ]
  },
  {
   "cell_type": "code",
   "execution_count": null,
   "id": "d94a72d0",
   "metadata": {},
   "outputs": [],
   "source": []
  }
 ],
 "metadata": {
  "kernelspec": {
   "display_name": "Python 3",
   "language": "python",
   "name": "python3"
  },
  "language_info": {
   "codemirror_mode": {
    "name": "ipython",
    "version": 3
   },
   "file_extension": ".py",
   "mimetype": "text/x-python",
   "name": "python",
   "nbconvert_exporter": "python",
   "pygments_lexer": "ipython3",
   "version": "3.8.8"
  }
 },
 "nbformat": 4,
 "nbformat_minor": 5
}
